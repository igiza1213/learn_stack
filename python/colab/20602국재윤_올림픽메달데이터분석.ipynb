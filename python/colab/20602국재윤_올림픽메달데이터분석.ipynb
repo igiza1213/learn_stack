{
 "cells": [
  {
   "cell_type": "code",
   "execution_count": 2,
   "metadata": {},
   "outputs": [
    {
     "name": "stdout",
     "output_type": "stream",
     "text": [
      "['요소1', '요소2', '요소3']\n",
      "\n"
     ]
    }
   ],
   "source": [
    "ex_list = [\"요소1\", \"요소2\", \"요소3\",]\n",
    "\n",
    "print(ex_list)\n",
    "print()"
   ]
  },
  {
   "cell_type": "code",
   "execution_count": 3,
   "metadata": {},
   "outputs": [
    {
     "name": "stdout",
     "output_type": "stream",
     "text": [
      "<enumerate object at 0x000002548CAF8380>\n",
      "\n",
      "[(0, '요소1'), (1, '요소2'), (2, '요소3')]\n",
      "\n"
     ]
    }
   ],
   "source": [
    "print(enumerate(ex_list))\n",
    "print()\n",
    "\n",
    "print(list(enumerate(ex_list)))\n",
    "print()\n"
   ]
  },
  {
   "cell_type": "code",
   "execution_count": 6,
   "metadata": {},
   "outputs": [
    {
     "name": "stdout",
     "output_type": "stream",
     "text": [
      "0번째 요소는 요소1입니다.\n",
      "1번째 요소는 요소2입니다.\n",
      "2번째 요소는 요소3입니다.\n"
     ]
    }
   ],
   "source": [
    "for i, value in enumerate(ex_list):\n",
    "    print(f\"{i}번째 요소는 {value}입니다.\")"
   ]
  },
  {
   "cell_type": "code",
   "execution_count": 7,
   "metadata": {},
   "outputs": [
    {
     "name": "stderr",
     "output_type": "stream",
     "text": [
      "'sudo'��(��) ���� �Ǵ� �ܺ� ����, ������ �� �ִ� ���α׷�, �Ǵ�\n",
      "��ġ ������ �ƴմϴ�.\n",
      "'sudo'��(��) ���� �Ǵ� �ܺ� ����, ������ �� �ִ� ���α׷�, �Ǵ�\n",
      "��ġ ������ �ƴմϴ�.\n",
      "'rm'��(��) ���� �Ǵ� �ܺ� ����, ������ �� �ִ� ���α׷�, �Ǵ�\n",
      "��ġ ������ �ƴմϴ�.\n"
     ]
    }
   ],
   "source": [
    "!sudo apt-get install -y fonts-nanum\n",
    "!sudo fc-cache -fv\n",
    "!rm ~/.cache/matplotlib -rf"
   ]
  },
  {
   "cell_type": "code",
   "execution_count": 8,
   "metadata": {},
   "outputs": [],
   "source": [
    "import matplotlib.pyplot as plt\n",
    "\n",
    "plt.rc('font', family='NanumBarunGothic')\n"
   ]
  },
  {
   "cell_type": "code",
   "execution_count": 4,
   "metadata": {},
   "outputs": [],
   "source": [
    "olympic = [\n",
    "          [1, '미국', 46, 37, 38, 121],\n",
    "          [2, '영국', 27, 23, 17, 67],\n",
    "          [3, '중국', 26, 18, 26, 70],\n",
    "          [4, '러시아', 19, 18, 19, 56],\n",
    "          [5, '독일', 17, 10, 15, 42],\n",
    "          [6, '일본', 12, 8, 21, 41],\n",
    "          [7, '프랑스', 10, 18, 14, 42],\n",
    "          [8, '대한민국', 9, 3, 9, 21]\n",
    "]\n"
   ]
  },
  {
   "cell_type": "code",
   "execution_count": 5,
   "metadata": {},
   "outputs": [
    {
     "name": "stdout",
     "output_type": "stream",
     "text": [
      "[1, '미국', 46, 37, 38, 121]\n",
      "[2, '영국', 27, 23, 17, 67]\n",
      "[3, '중국', 26, 18, 26, 70]\n",
      "[4, '러시아', 19, 18, 19, 56]\n",
      "[5, '독일', 17, 10, 15, 42]\n",
      "[6, '일본', 12, 8, 21, 41]\n",
      "[7, '프랑스', 10, 18, 14, 42]\n",
      "[8, '대한민국', 9, 3, 9, 21]\n"
     ]
    }
   ],
   "source": [
    "for row in olympic:\n",
    "  print(row)\n"
   ]
  },
  {
   "cell_type": "code",
   "execution_count": 6,
   "metadata": {},
   "outputs": [
    {
     "name": "stdout",
     "output_type": "stream",
     "text": [
      "[1, '미국', 46, 37, 38, 121]\n"
     ]
    }
   ],
   "source": [
    "print(olympic[0])\n"
   ]
  },
  {
   "cell_type": "code",
   "execution_count": 7,
   "metadata": {},
   "outputs": [
    {
     "name": "stdout",
     "output_type": "stream",
     "text": [
      "미국\n"
     ]
    }
   ],
   "source": [
    "print(olympic[0][1])\n"
   ]
  },
  {
   "cell_type": "code",
   "execution_count": 8,
   "metadata": {},
   "outputs": [
    {
     "name": "stdout",
     "output_type": "stream",
     "text": [
      "['미국', '영국', '중국', '러시아', '독일', '일본', '프랑스', '대한민국']\n"
     ]
    }
   ],
   "source": [
    "nation = []\n",
    "for row in olympic:\n",
    "    nation.append(row[1])\n",
    "print(nation)"
   ]
  },
  {
   "cell_type": "code",
   "execution_count": 9,
   "metadata": {},
   "outputs": [
    {
     "name": "stdout",
     "output_type": "stream",
     "text": [
      "[46, 27, 26, 19, 17, 12, 10, 9]\n"
     ]
    }
   ],
   "source": [
    "gold = []\n",
    "for row in olympic:\n",
    "    gold.append(row[2])\n",
    "print(gold)\n"
   ]
  },
  {
   "cell_type": "code",
   "execution_count": 10,
   "metadata": {},
   "outputs": [
    {
     "name": "stdout",
     "output_type": "stream",
     "text": [
      "[37, 23, 18, 18, 10, 8, 18, 3]\n"
     ]
    }
   ],
   "source": [
    "silver = []\n",
    "for row in olympic:\n",
    "    silver.append(row[3])\n",
    "print(silver)\n"
   ]
  },
  {
   "cell_type": "code",
   "execution_count": 11,
   "metadata": {},
   "outputs": [
    {
     "name": "stdout",
     "output_type": "stream",
     "text": [
      "[38, 17, 26, 19, 15, 21, 14, 9]\n"
     ]
    }
   ],
   "source": [
    "bronze = []\n",
    "for row in olympic:\n",
    "    bronze.append(row[4])\n",
    "print(bronze)\n"
   ]
  },
  {
   "cell_type": "code",
   "execution_count": 16,
   "metadata": {},
   "outputs": [],
   "source": [
    "import matplotlib.pyplot as plt     \n",
    "\n"
   ]
  },
  {
   "cell_type": "code",
   "execution_count": 15,
   "metadata": {},
   "outputs": [
    {
     "data": {
      "image/png": "[encoded data removed]",
      "text/plain": [
       "<Figure size 640x480 with 1 Axes>"
      ]
     },
     "metadata": {},
     "output_type": "display_data"
    }
   ],
   "source": [
    "plt.title(\"나라별 금메달 갯수 그래프\")\n",
    "plt.plot(nation, gold, color=\"hotpink\", label=\"gold\")\n",
    "plt.legend()\n",
    "plt.show()\n"
   ]
  }
 ],
 "metadata": {
  "kernelspec": {
   "display_name": "Python 3",
   "language": "python",
   "name": "python3"
  },
  "language_info": {
   "codemirror_mode": {
    "name": "ipython",
    "version": 3
   },
   "file_extension": ".py",
   "mimetype": "text/x-python",
   "name": "python",
   "nbconvert_exporter": "python",
   "pygments_lexer": "ipython3",
   "version": "3.10.4"
  },
  "orig_nbformat": 4
 },
 "nbformat": 4,
 "nbformat_minor": 2
}
