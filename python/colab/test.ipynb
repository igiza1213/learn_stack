{
 "cells": [
  {
   "cell_type": "code",
   "execution_count": 1,
   "metadata": {},
   "outputs": [
    {
     "name": "stdout",
     "output_type": "stream",
     "text": [
      "Requirement already satisfied: numpy in c:\\users\\igiza\\appdata\\local\\programs\\python\\python310\\lib\\site-packages (1.25.2)\n",
      "Note: you may need to restart the kernel to use updated packages.\n"
     ]
    },
    {
     "name": "stderr",
     "output_type": "stream",
     "text": [
      "\n",
      "[notice] A new release of pip is available: 23.2.1 -> 24.0\n",
      "[notice] To update, run: python.exe -m pip install --upgrade pip\n"
     ]
    },
    {
     "name": "stdout",
     "output_type": "stream",
     "text": [
      "Requirement already satisfied: opencv-python in c:\\users\\igiza\\appdata\\local\\programs\\python\\python310\\lib\\site-packages (4.9.0.80)\n",
      "Requirement already satisfied: numpy>=1.21.2 in c:\\users\\igiza\\appdata\\local\\programs\\python\\python310\\lib\\site-packages (from opencv-python) (1.25.2)\n",
      "Note: you may need to restart the kernel to use updated packages.\n"
     ]
    },
    {
     "name": "stderr",
     "output_type": "stream",
     "text": [
      "\n",
      "[notice] A new release of pip is available: 23.2.1 -> 24.0\n",
      "[notice] To update, run: python.exe -m pip install --upgrade pip\n"
     ]
    }
   ],
   "source": [
    "%pip install numpy\n",
    "%pip install opencv-python"
   ]
  },
  {
   "cell_type": "code",
   "execution_count": null,
   "metadata": {},
   "outputs": [],
   "source": []
  },
  {
   "cell_type": "code",
   "execution_count": 4,
   "metadata": {},
   "outputs": [],
   "source": [
    "# 코드에 대한 설명을 작성하세요.\n",
    "\n",
    "import numpy as np\n",
    "import cv2                         # cv 라이브러리 불러오기\n",
    "\n",
    "img = cv2.imread('card.png')        # 이미지 불러오기\n",
    "\n",
    "cv2.imshow('window title', img)              # window title 이라는 제목으로 이미지 띄우기\n",
    "cv2.waitKey(0)                      # 파라미터(ms)만큼 키보드 입력을 기다린다.\n",
    "cv2.destroyAllWindows()             # 창 끄기\n"
   ]
  },
  {
   "cell_type": "code",
   "execution_count": 36,
   "metadata": {},
   "outputs": [],
   "source": [
    "# 원 그리기\n",
    "import numpy as np\n",
    "import cv2\n",
    "\n",
    "img = cv2.imread('card.png')\n",
    "\n",
    "y, x, _ = img.shape                # img의 정보 불러오기\n",
    "\n",
    "# 위의 그림처럼 원을 그려보세요.\n",
    "cv2.circle(img, (x//2, y//2), 100, (255, 0, 0), 5)\n",
    "\n",
    "cv2.imshow('img', img)\n",
    "cv2.waitKey(0)\n",
    "cv2.destroyAllWindows()"
   ]
  },
  {
   "cell_type": "code",
   "execution_count": 37,
   "metadata": {},
   "outputs": [],
   "source": [
    "import numpy as np\n",
    "import cv2\n",
    "\n",
    "img = cv2.imread('card.png')\n",
    "\n",
    "# 원4개 그리기\n",
    "for i in [(240, 150), (600, 320), (100, 330), (470, 520)]:\n",
    "    cv2.circle(img, i, 15, (255, 0, 0), -1)\n",
    "# 직선 4개 그리기\n",
    "for i, j in [((240, 150), (600, 320)), ((600, 320), (470, 520)), ((100, 330), (240, 150)), ((470, 520), (100, 330))]:\n",
    "    cv2.line(img, i, j, (0, 255, 0), 6)\n",
    "\n",
    "\n",
    "# 텍스트 작성하기\n",
    "cv2.putText(img, \"CreditCard\", (0, y-20), 3, 3, (0, 0, 255), 3)\n",
    "\n",
    "\n",
    "cv2.imshow('img', img)\n",
    "cv2.waitKey(0)\n",
    "cv2.destroyAllWindows()\n"
   ]
  },
  {
   "cell_type": "code",
   "execution_count": 39,
   "metadata": {},
   "outputs": [],
   "source": [
    "# 주석을 작성해보세요.\n",
    "\n",
    "import numpy as np\n",
    "import cv2\n",
    "\n",
    "img = cv2.imread('card.png')\n",
    "\n",
    "# 350, 180을 width, height에 구조 분해 할당\n",
    "width, height = (350, 180)\n",
    "circle = [[238, 149], [600, 320], [473, 520], [97, 329]]    # 좌표 리스트 선언\n",
    "\n",
    "# circle 그대로 np.array로 변환\n",
    "src = np.array(circle, np.float32)\n",
    "dst = np.array([[0, 0], [width, 0], [width, height], [0, height]], np.float32)  # 높이 너비 대로 np.array로 변환\n",
    "\n",
    "# 시작점, 도작첨 => 매트릭스 만들어줌\n",
    "matrix = cv2.getPerspectiveTransform(src, dst)\n",
    "# 이미지 전체적 변환(사이즈 = width, height)\n",
    "result = cv2.warpPerspective(img, matrix, (width, height))\n",
    "\n",
    "cv2.imshow('img', img)\n",
    "cv2.imshow('result', result)\n",
    "cv2.waitKey(0)\n",
    "cv2.destroyAllWindows()\n"
   ]
  },
  {
   "cell_type": "code",
   "execution_count": null,
   "metadata": {},
   "outputs": [],
   "source": [
    "import numpy as np\n",
    "import cv2\n",
    "\n",
    "img = cv2.imread('namecard.jpg')\n",
    "\n",
    "width, height = (350, 180)\n",
    "circle = [[310, 754], [955, 184], [1290, 433], [626, 1038]]\n",
    "src = np.array(circle, dtype=np.float32)\n",
    "dst = np.array([[0, 0], [width, 0], [width, height],\n",
    "               [0, height]], dtype=np.float32)\n",
    "\n",
    "matrix = cv2.getPerspectiveTransform(src, dst)\n",
    "result = cv2.warpPerspective(img, matrix, (width, height))\n",
    "\n",
    "cv2.imshow('img', img)\n",
    "cv2.imshow('result', result)\n",
    "cv2.waitKey(0)\n",
    "cv2.destroyAllWindows()\n"
   ]
  },
  {
   "cell_type": "code",
   "execution_count": 43,
   "metadata": {},
   "outputs": [],
   "source": [
    "import numpy as np\n",
    "import cv2 as cv\n",
    "\n",
    "# mouse callback function\n",
    "\n",
    "\n",
    "def draw_circle(event, x, y, flags, param):                                   # 함수 선언\n",
    " if event == cv.EVENT_LBUTTONDBLCLK:                                      # 마우스 더블 클릭이면\n",
    "     cv2.circle(img, (x, y), 100, (255, 0, 0), -1)                               # 파란 동그라미 생성\n",
    "\n",
    "\n",
    "# Create a black image, a window and bind the function to window\n",
    "# 검정색 창 생성\n",
    "img = np.zeros((512, 512, 3), np.uint8)\n",
    "cv2.namedWindow('image')                                                  # \n",
    "# draw_circle 함수를 콜백으로 실행\n",
    "cv2.setMouseCallback('image', draw_circle)\n",
    "\n",
    "while (1):                                                                # 무한 반복\n",
    " cv2.imshow('image', img)\n",
    " # esc 키 기다리다 누르면 브레이크\n",
    " if cv.waitKey(1) & 0xFF == 27:\n",
    "     break\n",
    "cv2.destroyAllWindows()\n"
   ]
  },
  {
   "cell_type": "code",
   "execution_count": 44,
   "metadata": {},
   "outputs": [],
   "source": [
    "import numpy as np\n",
    "import cv2 as cv\n",
    "# mouse callback function\n",
    "\n",
    "\n",
    "def draw_circle(event, x, y, flags, param):\n",
    "    global radius\n",
    "\n",
    "    if event == cv2.EVENT_LBUTTONDBLCLK:\n",
    "     cv2.circle(img, (x, y), radius, (255, 0, 0), -1)\n",
    "    elif event == cv2.EVENT_RBUTTONDBLCLK:\n",
    "     cv2.rectangle(img, (x-50, y-50), (x+50, y+50), (0, 95, 255), -1)\n",
    "    elif event == cv2.EVENT_MOUSEWHEEL:\n",
    "        if flags > 0:\n",
    "            radius += 1\n",
    "        elif radius > 1:\n",
    "            radius -= 1\n",
    "\n",
    "\n",
    "radius = 100\n",
    "\n",
    "# Create a black image, a window and bind the function to window\n",
    "img = np.zeros((512, 512, 3), np.uint8)\n",
    "cv2.namedWindow('image')\n",
    "cv2.setMouseCallback('image', draw_circle)\n",
    "\n",
    "while (1):\n",
    " cv2.imshow('image', img)\n",
    " if cv.waitKey(20) & 0xFF == 27:\n",
    "    break\n",
    "cv2.destroyAllWindows()\n"
   ]
  },
  {
   "cell_type": "code",
   "execution_count": null,
   "metadata": {},
   "outputs": [],
   "source": [
    "import numpy as np\n",
    "import cv2 as cv\n",
    "\n",
    "drawing = False                   # 마우스가 클릭되면 True 로 바뀜.\n",
    "mode = True                       # 키보드'm'을 누르면 바뀜. True면 사각형, False면 커브그리기.\n",
    "ix,iy = -1,-1\n",
    "\n",
    "# mouse callback function\n",
    "def draw_circle(event,x,y,flags,param):\n",
    " global ix,iy,drawing,mode\n",
    " if event == cv.EVENT_LBUTTONDOWN:\n",
    "     drawing = True\n",
    "     ix,iy = x,y\n",
    " elif event == cv.EVENT_MOUSEMOVE:\n",
    "     if drawing == True:\n",
    "         if mode == True:\n",
    "             cv.rectangle(img,(ix,iy),(x,y),(0,255,0),-1)\n",
    "         else:\n",
    "             cv.circle(img,(x,y),5,(0,0,255),-1)\n",
    " elif event == cv.EVENT_LBUTTONUP:\n",
    "        drawing = False\n",
    "        if mode == True:\n",
    "                 cv.rectangle(img,(ix,iy),(x,y),(0,255,0),-1)\n",
    "        else:\n",
    "                 cv.circle(img,(x,y),5,(0,0,255),-1)"
   ]
  },
  {
   "cell_type": "code",
   "execution_count": null,
   "metadata": {},
   "outputs": [],
   "source": [
    "img = np.zeros((512, 512, 3), np.uint8)\n",
    "cv.namedWindow('image')\n",
    "cv.setMouseCallback('image', draw_circle)\n",
    "\n",
    "while (1):\n",
    " cv.imshow('image', img)\n",
    " k = cv.waitKey(1) & 0xFF\n",
    " if k == ord('m'):\n",
    "     mode = not mode\n",
    " elif k == 27:\n",
    "     break\n",
    "cv.destroyAllWindows()\n"
   ]
  },
  {
   "cell_type": "code",
   "execution_count": 40,
   "metadata": {},
   "outputs": [],
   "source": [
    "import numpy as np\n",
    "\n",
    "point_list = []\n",
    "img = cv2.imread('card.png')\n",
    "\n",
    "\n",
    "def get_points(event, x, y, flags, param):\n",
    "    if event == cv2.EVENT_LBUTTONDOWN:\n",
    "        point_list.append([x, y])\n",
    "        cv2.circle(img, (x, y), 13, (0, 0, 255), cv2.FILLED)\n",
    "    cv2.imshow('img', img)\n",
    "\n",
    "\n",
    "cv.namedWindow('img')\n",
    "cv.imshow('img', img)\n",
    "\n",
    "cv.setMouseCallback('img', get_points)\n",
    "cv.waitKey(0)\n",
    "cv.destroyAllWindows()\n"
   ]
  },
  {
   "cell_type": "code",
   "execution_count": 41,
   "metadata": {},
   "outputs": [],
   "source": [
    "import numpy as np\n",
    "import cv2\n",
    "import random\n",
    "\n",
    "img = np.zeros((512, 512, 3), np.uint8)\n",
    "drawing = False\n",
    "\n",
    "\n",
    "def write_circle(x, y):\n",
    "    cv2.circle(img, (x, y), 10, tuple(random.choice(range(256))\n",
    "               for _ in range(3)), -1)\n",
    "\n",
    "\n",
    "def draw_circle(event, x, y, flags, param):\n",
    "    global drawing\n",
    "    if event == cv2.EVENT_LBUTTONDOWN:\n",
    "        drawing = True\n",
    "        write_circle(x, y)\n",
    "    elif event == cv2.EVENT_MOUSEMOVE:\n",
    "        if drawing:\n",
    "            write_circle(x, y)\n",
    "    elif event == cv2.EVENT_LBUTTONUP:\n",
    "        drawing = False\n",
    "        write_circle(x, y)\n",
    "\n",
    "\n",
    "cv2.namedWindow('sketch')\n",
    "cv2.setMouseCallback('sketch', draw_circle)\n",
    "\n",
    "while True:\n",
    "    cv2.imshow('sketch', img)\n",
    "    if cv2.waitKey(1) & 0xFF == ord('q'):\n",
    "        break\n",
    "\n",
    "cv2.destroyAllWindows()\n"
   ]
  },
  {
   "cell_type": "code",
   "execution_count": 42,
   "metadata": {},
   "outputs": [
    {
     "name": "stdout",
     "output_type": "stream",
     "text": [
      "51\n",
      "0\n",
      "51\n"
     ]
    }
   ],
   "source": [
    "\n",
    "\n",
    "img = np.zeros((500, 600), np.uint8)\n",
    "\n",
    "cv2.imshow('image', img)\n",
    "\n",
    "\n",
    "def onChange(pos):\n",
    "    print(pos)\n",
    "    img[:] = pos\n",
    "    cv2.imshow('image', img)\n",
    "\n",
    "\n",
    "cv2.createTrackbar(\"Gray\", \"image\", 0, 255, onChange)\n",
    "\n",
    "\n",
    "cv2.waitKey(0)\n",
    "\n",
    "cv2.destroyAllWindows()\n"
   ]
  },
  {
   "cell_type": "code",
   "execution_count": null,
   "metadata": {},
   "outputs": [],
   "source": [
    "img = np.zeros((500, 600, 3), np.uint8)\n",
    "\n",
    "cv2.imshow('image', img)\n",
    "\n",
    "rgb = ['B', 'G', 'R']\n",
    "\n",
    "\n",
    "def onChange(pos):\n",
    "    img[:, :] = [cv2.getTrackbarPos(i, \"image\") for i in rgb]\n",
    "    cv2.imshow('image', img)\n",
    "\n",
    "\n",
    "for i in rgb:\n",
    "    cv2.createTrackbar(i, \"image\", 0, 255, onChange)\n",
    "\n",
    "\n",
    "cv2.waitKey(0)\n",
    "\n",
    "cv2.destroyAllWindows()\n",
    "  "
   ]
  },
  {
   "cell_type": "code",
   "execution_count": null,
   "metadata": {},
   "outputs": [],
   "source": [
    "img = cv2.imread(\"card.png\", cv2.IMREAD_GRAYSCALE)\n",
    "\n",
    "ret, tresh = cv2.threshold(img, 100, 255, cv2.THRESH_BINARY)\n",
    "\n",
    "cv2.imshow('image', img,)\n",
    "cv2.waitKey(0)\n",
    "cv2.destroyAllWindows()\n"
   ]
  }
 ],
 "metadata": {
  "kernelspec": {
   "display_name": "Python 3",
   "language": "python",
   "name": "python3"
  },
  "language_info": {
   "codemirror_mode": {
    "name": "ipython",
    "version": 3
   },
   "file_extension": ".py",
   "mimetype": "text/x-python",
   "name": "python",
   "nbconvert_exporter": "python",
   "pygments_lexer": "ipython3",
   "version": "3.10.4"
  }
 },
 "nbformat": 4,
 "nbformat_minor": 2
}
